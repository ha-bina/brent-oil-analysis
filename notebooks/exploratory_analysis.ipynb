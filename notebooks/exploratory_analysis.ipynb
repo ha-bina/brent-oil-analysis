{
 "cells": [
  {
   "cell_type": "code",
   "execution_count": null,
   "id": "7b4d835f",
   "metadata": {},
   "outputs": [
    {
     "ename": "",
     "evalue": "",
     "output_type": "error",
     "traceback": [
      "\u001b[1;31mFailed to start the Kernel. \n",
      "\u001b[1;31mzmq.error.ZMQError: Address in use (addr='tcp://127.0.0.1:9002'). \n",
      "\u001b[1;31mView Jupyter <a href='command:jupyter.viewOutput'>log</a> for further details."
     ]
    }
   ],
   "source": [
    "# brent_oil_analysis.py\n",
    "\n",
    "%pip install pandas matplotlib seaborn statsmodels ruptures\n",
    "import pandas as pd\n",
    "import matplotlib.pyplot as plt\n",
    "import seaborn as sns\n",
    "import numpy as np\n",
    "from statsmodels.tsa.stattools import adfuller\n",
    "import ruptures as rpt  # for change point detection\n",
    "\n",
    "# Step 2: Load Brent oil price data\n",
    "brent = pd.read_csv(\"data/brent_oil_prices.csv\", parse_dates=[\"Date\"])\n",
    "brent.set_index(\"Date\", inplace=True)\n",
    "\n",
    "# Step 3: Visualize time series\n",
    "plt.figure(figsize=(12, 6))\n",
    "sns.lineplot(data=brent, x=brent.index, y=\"Price\")\n",
    "plt.title(\"Brent Oil Prices Over Time\")\n",
    "plt.ylabel(\"Price (USD)\")\n",
    "plt.xlabel(\"Date\")\n",
    "plt.tight_layout()\n",
    "plt.show()\n",
    "\n",
    "# Step 4: Check stationarity (ADF test)\n",
    "def check_stationarity(series):\n",
    "    result = adfuller(series.dropna())\n",
    "    return {\n",
    "        \"ADF Statistic\": result[0],\n",
    "        \"p-value\": result[1],\n",
    "        \"Stationary\": result[1] < 0.05\n",
    "    }\n",
    "\n",
    "stationarity = check_stationarity(brent[\"Price\"])\n",
    "print(\"ADF Test Results:\", stationarity)\n",
    "\n",
    "# Step 5: Identify change points\n",
    "signal = brent[\"Price\"].values\n",
    "model = rpt.Pelt(model=\"rbf\").fit(signal)\n",
    "breaks = model.predict(pen=10)\n",
    "\n",
    "# Step 6: Plot change points\n",
    "plt.figure(figsize=(12, 6))\n",
    "rpt.display(signal, breaks, figsize=(10, 6))\n",
    "plt.title(\"Detected Change Points in Brent Oil Prices\")\n",
    "plt.show()\n",
    "\n",
    "# Step 7: Load key event dataset (manually compiled)\n",
    "events = pd.read_csv(\"data/oil_market_events.csv\", parse_dates=[\"Start_Date\"])\n",
    "print(events.head())\n"
   ]
  }
 ],
 "metadata": {
  "kernelspec": {
   "display_name": ".venv",
   "language": "python",
   "name": "python3"
  },
  "language_info": {
   "codemirror_mode": {
    "name": "ipython",
    "version": 3
   },
   "file_extension": ".py",
   "mimetype": "text/x-python",
   "name": "python",
   "nbconvert_exporter": "python",
   "pygments_lexer": "ipython3",
   "version": "3.13.3"
  }
 },
 "nbformat": 4,
 "nbformat_minor": 5
}
